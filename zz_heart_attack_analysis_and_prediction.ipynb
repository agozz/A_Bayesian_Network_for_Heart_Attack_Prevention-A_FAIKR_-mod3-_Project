{
 "cells": [
  {
   "cell_type": "markdown",
   "metadata": {},
   "source": [
    "# A Bayesian network for Heart attacks prevention\n",
    "### Exam: Foundamentals of Artificial Intelligence and Knowledge Representation - Module 3\n",
    "### Student: Agostino Aiezzo - 982514 - agostino.aiezzo@studio.unibo.it\n"
   ]
  },
  {
   "cell_type": "markdown",
   "metadata": {},
   "source": [
    "## Introduction"
   ]
  },
  {
   "cell_type": "markdown",
   "metadata": {},
   "source": [
    "The aim of this project is, in fact, to build a probabilistic model which tries to understand the relationships among different causes for heart attack cases and which of them are the most relevant. For this reason, the dataset provided by UCI and created by different medical and hospital research institutes is used. It provides a lot of attributes, but all the experiments tend to use a subset of 14 of them. Here they are below:"
   ]
  },
  {
   "cell_type": "markdown",
   "metadata": {},
   "source": [
    "- age : Age of the patient\n",
    "- sex : Sex of the patient (0 = female, 1 = male)\n",
    "- cp : Chest pain, 4 possible values (typical angina, atypical angina, non-anginal pain, asymptomatic)\n",
    "- trestbps : Resting blood pressure\n",
    "- chol : Serum cholestoral in mg/dl\n",
    "- fbs : Fasting blood sugar > 120 mg/dl, 2 possible values (0 = False, 1 = True)\n",
    "- restecg : Resting electrocardiographic results, 3 possible values (normal, ST-T wave\n",
    "abnormality, probable or definite left ventricular hypertrophy by Estes's criteria)\n",
    "- thalach : Maximum heart rate achieved\n",
    "- exang : Execercise induced angina (0=No, 1=Yes)\n",
    "- oldpeak : ST depression induced by exercise relative to rest\n",
    "- slope : the slope of the peak exercise ST segment, 3 possible values (upsloping, flat,\n",
    "downsloping)\n",
    "- ca : Number of major vessels (0-3) colored by flourosopy\n",
    "- thal: Thalassemia, 3 possible values (normal, fixed defect, reversable defect)\n",
    "- target : Probability of heart attach, 2 possible values (0 = No, 1=Yes)"
   ]
  },
  {
   "cell_type": "markdown",
   "metadata": {},
   "source": [
    "Fortunately, there are no missing values. In any case, some data processing needs to be done in order to obtain many advantages during model construction."
   ]
  },
  {
   "cell_type": "markdown",
   "metadata": {},
   "source": [
    "## Step 1: data bucketization"
   ]
  },
  {
   "cell_type": "markdown",
   "metadata": {},
   "source": [
    "The main reasons for data to be prepared are to obtain a more compact and comprehensive model. In this way, efficiency and low computational effort are achieved. "
   ]
  },
  {
   "cell_type": "code",
   "execution_count": 1,
   "metadata": {},
   "outputs": [],
   "source": [
    "'''All the libraries needed during the execution of the program'''\n",
    "\n",
    "import pandas as pd\n",
    "import numpy as np\n",
    "import networkx as nx\n",
    "from pgmpy.estimators import BicScore, HillClimbSearch, MaximumLikelihoodEstimator, BayesianEstimator\n",
    "from pgmpy.models import BayesianModel\n",
    "from pgmpy. inference import VariableElimination\n",
    "from pgmpy.sampling import BayesianModelSampling\n",
    "from pgmpy.factors.discrete import State"
   ]
  },
  {
   "cell_type": "code",
   "execution_count": 2,
   "metadata": {},
   "outputs": [],
   "source": [
    "'''All the functions specifically written for the correct execution of the program'''\n",
    "\n",
    "def draw_bayesian_network(nodes, edges): #It is used for drawing bayesian networks (since they are\n",
    "                                        # directed acyclic graph or DAG, networkx library is provided).\n",
    "    graph = nx.DiGraph()\n",
    "    graph.add_nodes_from(nodes)\n",
    "    graph.add_edges_from(edges)\n",
    "    \n",
    "    options = {\n",
    "        'node_size': 700,\n",
    "        'width': 2,\n",
    "        'arrowstyle': '<|-',\n",
    "        'arrowsize': 15,\n",
    "        'with_labels': True,\n",
    "        'arrows': True\n",
    "    }\n",
    "    \n",
    "    nx.draw_shell(graph, **options)\n",
    "\n",
    "\n",
    "def lw_sampling_infer(model, query, value, evidence, size=500): #compute an inference using likelihood \n",
    "                                                                #weighting, returning the calculated \n",
    "                                                                #probability and the generated samples\n",
    "\n",
    "    evidences = []\n",
    "    for key, v in evidence.items():\n",
    "        evidences.append(State(key,v))\n",
    "    \n",
    "    sampler = BayesianModelSampling(model)\n",
    "    samples = sampler.likelihood_weighted_sample(size=size,evidence=evidences)\n",
    "    \n",
    "    containing = (samples[samples[query]==value])['_weight'].sum()\n",
    "    total = samples['_weight'].sum()\n",
    "    \n",
    "    return containing / total, samples"
   ]
  },
  {
   "cell_type": "markdown",
   "metadata": {},
   "source": [
    "Let's have a look to the dataset."
   ]
  },
  {
   "cell_type": "code",
   "execution_count": 3,
   "metadata": {},
   "outputs": [
    {
     "data": {
      "text/html": [
       "<div>\n",
       "<style scoped>\n",
       "    .dataframe tbody tr th:only-of-type {\n",
       "        vertical-align: middle;\n",
       "    }\n",
       "\n",
       "    .dataframe tbody tr th {\n",
       "        vertical-align: top;\n",
       "    }\n",
       "\n",
       "    .dataframe thead th {\n",
       "        text-align: right;\n",
       "    }\n",
       "</style>\n",
       "<table border=\"1\" class=\"dataframe\">\n",
       "  <thead>\n",
       "    <tr style=\"text-align: right;\">\n",
       "      <th></th>\n",
       "      <th>age</th>\n",
       "      <th>sex</th>\n",
       "      <th>cp</th>\n",
       "      <th>trestbps</th>\n",
       "      <th>chol</th>\n",
       "      <th>fbs</th>\n",
       "      <th>restecg</th>\n",
       "      <th>thalach</th>\n",
       "      <th>exang</th>\n",
       "      <th>oldpeak</th>\n",
       "      <th>slope</th>\n",
       "      <th>ca</th>\n",
       "      <th>thal</th>\n",
       "      <th>target</th>\n",
       "    </tr>\n",
       "  </thead>\n",
       "  <tbody>\n",
       "    <tr>\n",
       "      <th>0</th>\n",
       "      <td>63</td>\n",
       "      <td>1</td>\n",
       "      <td>3</td>\n",
       "      <td>145</td>\n",
       "      <td>233</td>\n",
       "      <td>1</td>\n",
       "      <td>0</td>\n",
       "      <td>150</td>\n",
       "      <td>0</td>\n",
       "      <td>2.3</td>\n",
       "      <td>0</td>\n",
       "      <td>0</td>\n",
       "      <td>1</td>\n",
       "      <td>1</td>\n",
       "    </tr>\n",
       "    <tr>\n",
       "      <th>1</th>\n",
       "      <td>37</td>\n",
       "      <td>1</td>\n",
       "      <td>2</td>\n",
       "      <td>130</td>\n",
       "      <td>250</td>\n",
       "      <td>0</td>\n",
       "      <td>1</td>\n",
       "      <td>187</td>\n",
       "      <td>0</td>\n",
       "      <td>3.5</td>\n",
       "      <td>0</td>\n",
       "      <td>0</td>\n",
       "      <td>2</td>\n",
       "      <td>1</td>\n",
       "    </tr>\n",
       "    <tr>\n",
       "      <th>2</th>\n",
       "      <td>41</td>\n",
       "      <td>0</td>\n",
       "      <td>1</td>\n",
       "      <td>130</td>\n",
       "      <td>204</td>\n",
       "      <td>0</td>\n",
       "      <td>0</td>\n",
       "      <td>172</td>\n",
       "      <td>0</td>\n",
       "      <td>1.4</td>\n",
       "      <td>2</td>\n",
       "      <td>0</td>\n",
       "      <td>2</td>\n",
       "      <td>1</td>\n",
       "    </tr>\n",
       "    <tr>\n",
       "      <th>3</th>\n",
       "      <td>56</td>\n",
       "      <td>1</td>\n",
       "      <td>1</td>\n",
       "      <td>120</td>\n",
       "      <td>236</td>\n",
       "      <td>0</td>\n",
       "      <td>1</td>\n",
       "      <td>178</td>\n",
       "      <td>0</td>\n",
       "      <td>0.8</td>\n",
       "      <td>2</td>\n",
       "      <td>0</td>\n",
       "      <td>2</td>\n",
       "      <td>1</td>\n",
       "    </tr>\n",
       "    <tr>\n",
       "      <th>4</th>\n",
       "      <td>57</td>\n",
       "      <td>0</td>\n",
       "      <td>0</td>\n",
       "      <td>120</td>\n",
       "      <td>354</td>\n",
       "      <td>0</td>\n",
       "      <td>1</td>\n",
       "      <td>163</td>\n",
       "      <td>1</td>\n",
       "      <td>0.6</td>\n",
       "      <td>2</td>\n",
       "      <td>0</td>\n",
       "      <td>2</td>\n",
       "      <td>1</td>\n",
       "    </tr>\n",
       "    <tr>\n",
       "      <th>5</th>\n",
       "      <td>57</td>\n",
       "      <td>1</td>\n",
       "      <td>0</td>\n",
       "      <td>140</td>\n",
       "      <td>192</td>\n",
       "      <td>0</td>\n",
       "      <td>1</td>\n",
       "      <td>148</td>\n",
       "      <td>0</td>\n",
       "      <td>0.4</td>\n",
       "      <td>1</td>\n",
       "      <td>0</td>\n",
       "      <td>1</td>\n",
       "      <td>1</td>\n",
       "    </tr>\n",
       "    <tr>\n",
       "      <th>6</th>\n",
       "      <td>56</td>\n",
       "      <td>0</td>\n",
       "      <td>1</td>\n",
       "      <td>140</td>\n",
       "      <td>294</td>\n",
       "      <td>0</td>\n",
       "      <td>0</td>\n",
       "      <td>153</td>\n",
       "      <td>0</td>\n",
       "      <td>1.3</td>\n",
       "      <td>1</td>\n",
       "      <td>0</td>\n",
       "      <td>2</td>\n",
       "      <td>1</td>\n",
       "    </tr>\n",
       "    <tr>\n",
       "      <th>7</th>\n",
       "      <td>44</td>\n",
       "      <td>1</td>\n",
       "      <td>1</td>\n",
       "      <td>120</td>\n",
       "      <td>263</td>\n",
       "      <td>0</td>\n",
       "      <td>1</td>\n",
       "      <td>173</td>\n",
       "      <td>0</td>\n",
       "      <td>0.0</td>\n",
       "      <td>2</td>\n",
       "      <td>0</td>\n",
       "      <td>3</td>\n",
       "      <td>1</td>\n",
       "    </tr>\n",
       "    <tr>\n",
       "      <th>8</th>\n",
       "      <td>52</td>\n",
       "      <td>1</td>\n",
       "      <td>2</td>\n",
       "      <td>172</td>\n",
       "      <td>199</td>\n",
       "      <td>1</td>\n",
       "      <td>1</td>\n",
       "      <td>162</td>\n",
       "      <td>0</td>\n",
       "      <td>0.5</td>\n",
       "      <td>2</td>\n",
       "      <td>0</td>\n",
       "      <td>3</td>\n",
       "      <td>1</td>\n",
       "    </tr>\n",
       "    <tr>\n",
       "      <th>9</th>\n",
       "      <td>57</td>\n",
       "      <td>1</td>\n",
       "      <td>2</td>\n",
       "      <td>150</td>\n",
       "      <td>168</td>\n",
       "      <td>0</td>\n",
       "      <td>1</td>\n",
       "      <td>174</td>\n",
       "      <td>0</td>\n",
       "      <td>1.6</td>\n",
       "      <td>2</td>\n",
       "      <td>0</td>\n",
       "      <td>2</td>\n",
       "      <td>1</td>\n",
       "    </tr>\n",
       "  </tbody>\n",
       "</table>\n",
       "</div>"
      ],
      "text/plain": [
       "   age  sex  cp  trestbps  chol  fbs  restecg  thalach  exang  oldpeak  slope  \\\n",
       "0   63    1   3       145   233    1        0      150      0      2.3      0   \n",
       "1   37    1   2       130   250    0        1      187      0      3.5      0   \n",
       "2   41    0   1       130   204    0        0      172      0      1.4      2   \n",
       "3   56    1   1       120   236    0        1      178      0      0.8      2   \n",
       "4   57    0   0       120   354    0        1      163      1      0.6      2   \n",
       "5   57    1   0       140   192    0        1      148      0      0.4      1   \n",
       "6   56    0   1       140   294    0        0      153      0      1.3      1   \n",
       "7   44    1   1       120   263    0        1      173      0      0.0      2   \n",
       "8   52    1   2       172   199    1        1      162      0      0.5      2   \n",
       "9   57    1   2       150   168    0        1      174      0      1.6      2   \n",
       "\n",
       "   ca  thal  target  \n",
       "0   0     1       1  \n",
       "1   0     2       1  \n",
       "2   0     2       1  \n",
       "3   0     2       1  \n",
       "4   0     2       1  \n",
       "5   0     1       1  \n",
       "6   0     2       1  \n",
       "7   0     3       1  \n",
       "8   0     3       1  \n",
       "9   0     2       1  "
      ]
     },
     "execution_count": 3,
     "metadata": {},
     "output_type": "execute_result"
    }
   ],
   "source": [
    "url = 'heart.csv'\n",
    "df = pd.read_csv(url, sep = ',')\n",
    "\n",
    "df.head(10)"
   ]
  },
  {
   "cell_type": "markdown",
   "metadata": {},
   "source": [
    "In this case, what is necessary to do is to recast some of the attributes of the dataset through bucketization, that is the grouping of many values into a series of categories identified by specific names.\n",
    "As you can see, there are many paramaters that need to be bucketized such as 'age', 'trestbps', 'chol', 'oldpeak', etc. So, these and other columns are going to be considered, but, for safety, it's better to work on a copy of the data."
   ]
  },
  {
   "cell_type": "code",
   "execution_count": 4,
   "metadata": {},
   "outputs": [],
   "source": [
    "df_copy = df.copy()"
   ]
  },
  {
   "cell_type": "markdown",
   "metadata": {},
   "source": [
    "What it's possible to do for the 'age' column is to consider, for example, 5 possible categories (the ones below). Even if not all of them have a match, it is worth it for future extensions of the dataset with new rows."
   ]
  },
  {
   "cell_type": "code",
   "execution_count": 5,
   "metadata": {},
   "outputs": [
    {
     "data": {
      "text/plain": [
       "['Adult', 'Old', 'Young']\n",
       "Categories (3, object): ['Young' < 'Adult' < 'Old']"
      ]
     },
     "execution_count": 5,
     "metadata": {},
     "output_type": "execute_result"
    }
   ],
   "source": [
    "df_copy['age'] = pd.cut(x=df_copy['age'],\n",
    "                       bins=[0,10,18,30,65,120],\n",
    "                       labels=['Baby','Minor','Young','Adult','Old'])\n",
    "df_copy['age'].unique()"
   ]
  },
  {
   "cell_type": "markdown",
   "metadata": {},
   "source": [
    "Something similar is done the for 'trestbps' column."
   ]
  },
  {
   "cell_type": "code",
   "execution_count": 6,
   "metadata": {},
   "outputs": [
    {
     "data": {
      "text/plain": [
       "['High', 'Medium']\n",
       "Categories (2, object): ['Medium' < 'High']"
      ]
     },
     "execution_count": 6,
     "metadata": {},
     "output_type": "execute_result"
    }
   ],
   "source": [
    "df_copy['trestbps'] = pd.cut(x=df_copy['trestbps'],\n",
    "                       bins=[0,50,90,130,250,500],\n",
    "                       labels=['Very Low','Low','Medium','High','Very High'])\n",
    "df_copy['trestbps'].unique()"
   ]
  },
  {
   "cell_type": "markdown",
   "metadata": {},
   "source": [
    "In this case, for the sake of realism, the 'chol' column has been bucketized by using only 2 possible values. In particular, 'True' is the case in which the blood cholesterol is above 200 mg/dl; 'False' on the countrary case."
   ]
  },
  {
   "cell_type": "code",
   "execution_count": 7,
   "metadata": {},
   "outputs": [
    {
     "data": {
      "text/plain": [
       "array(['True', 'False'], dtype=object)"
      ]
     },
     "execution_count": 7,
     "metadata": {},
     "output_type": "execute_result"
    }
   ],
   "source": [
    "df_copy['chol'] = np.where((df_copy['chol'] > 200), True, #se supera i 200\n",
    "                           np.where((df_copy['chol'] <= 200), False, 'No Change'))\n",
    "df_copy['chol'].unique()"
   ]
  },
  {
   "cell_type": "markdown",
   "metadata": {},
   "source": [
    "Initially, the 'thalach' column, as well as the 'chol' one, was bucketized with either 'True' or 'False' values. However, in this way some relations in the Bayesian network were not expressed probably because many shades of information were lost in the process. So, for this reason the number of possible categories has been expanded and thus new links among attributes were generated."
   ]
  },
  {
   "cell_type": "code",
   "execution_count": 8,
   "metadata": {},
   "outputs": [
    {
     "data": {
      "text/plain": [
       "['High', 'Medium', 'Low']\n",
       "Categories (3, object): ['Low' < 'Medium' < 'High']"
      ]
     },
     "execution_count": 8,
     "metadata": {},
     "output_type": "execute_result"
    }
   ],
   "source": [
    "df_copy['thalach'] = pd.cut(x=df_copy['thalach'],\n",
    "                       bins=[0,90,130,500],\n",
    "                       labels=['Low','Medium','High'])\n",
    "df_copy['thalach'].unique()"
   ]
  },
  {
   "cell_type": "markdown",
   "metadata": {},
   "source": [
    "In conclusion, also the 'oldpeak' column has been bucketized as usual. The only drawback encountered, in this case, was about some missing values, but they have been simply solved by filling them with the correspondent category.  "
   ]
  },
  {
   "cell_type": "code",
   "execution_count": 9,
   "metadata": {},
   "outputs": [
    {
     "data": {
      "text/plain": [
       "['Mid', 'Big', 'Small']\n",
       "Categories (3, object): ['Small' < 'Mid' < 'Big']"
      ]
     },
     "execution_count": 9,
     "metadata": {},
     "output_type": "execute_result"
    }
   ],
   "source": [
    "df_copy['oldpeak'] = pd.cut(x=df_copy['oldpeak'],\n",
    "                       bins=[0.,1.,3.,10.],\n",
    "                       labels=['Small','Mid','Big'])\n",
    "df_copy['oldpeak'] = df_copy['oldpeak'].fillna('Small')\n",
    "df_copy['oldpeak'].unique()"
   ]
  },
  {
   "cell_type": "markdown",
   "metadata": {},
   "source": [
    "Here below there's the final result. As you can notice, the dataset is not only ready to be used to build the probabilistic model, but it is also more human-readable and cleaned."
   ]
  },
  {
   "cell_type": "code",
   "execution_count": 10,
   "metadata": {},
   "outputs": [
    {
     "data": {
      "text/html": [
       "<div>\n",
       "<style scoped>\n",
       "    .dataframe tbody tr th:only-of-type {\n",
       "        vertical-align: middle;\n",
       "    }\n",
       "\n",
       "    .dataframe tbody tr th {\n",
       "        vertical-align: top;\n",
       "    }\n",
       "\n",
       "    .dataframe thead th {\n",
       "        text-align: right;\n",
       "    }\n",
       "</style>\n",
       "<table border=\"1\" class=\"dataframe\">\n",
       "  <thead>\n",
       "    <tr style=\"text-align: right;\">\n",
       "      <th></th>\n",
       "      <th>age</th>\n",
       "      <th>sex</th>\n",
       "      <th>cp</th>\n",
       "      <th>trestbps</th>\n",
       "      <th>chol</th>\n",
       "      <th>fbs</th>\n",
       "      <th>restecg</th>\n",
       "      <th>thalach</th>\n",
       "      <th>exang</th>\n",
       "      <th>oldpeak</th>\n",
       "      <th>slope</th>\n",
       "      <th>ca</th>\n",
       "      <th>thal</th>\n",
       "      <th>target</th>\n",
       "    </tr>\n",
       "  </thead>\n",
       "  <tbody>\n",
       "    <tr>\n",
       "      <th>0</th>\n",
       "      <td>Adult</td>\n",
       "      <td>1</td>\n",
       "      <td>3</td>\n",
       "      <td>High</td>\n",
       "      <td>True</td>\n",
       "      <td>1</td>\n",
       "      <td>0</td>\n",
       "      <td>High</td>\n",
       "      <td>0</td>\n",
       "      <td>Mid</td>\n",
       "      <td>0</td>\n",
       "      <td>0</td>\n",
       "      <td>1</td>\n",
       "      <td>1</td>\n",
       "    </tr>\n",
       "    <tr>\n",
       "      <th>1</th>\n",
       "      <td>Adult</td>\n",
       "      <td>1</td>\n",
       "      <td>2</td>\n",
       "      <td>Medium</td>\n",
       "      <td>True</td>\n",
       "      <td>0</td>\n",
       "      <td>1</td>\n",
       "      <td>High</td>\n",
       "      <td>0</td>\n",
       "      <td>Big</td>\n",
       "      <td>0</td>\n",
       "      <td>0</td>\n",
       "      <td>2</td>\n",
       "      <td>1</td>\n",
       "    </tr>\n",
       "    <tr>\n",
       "      <th>2</th>\n",
       "      <td>Adult</td>\n",
       "      <td>0</td>\n",
       "      <td>1</td>\n",
       "      <td>Medium</td>\n",
       "      <td>True</td>\n",
       "      <td>0</td>\n",
       "      <td>0</td>\n",
       "      <td>High</td>\n",
       "      <td>0</td>\n",
       "      <td>Mid</td>\n",
       "      <td>2</td>\n",
       "      <td>0</td>\n",
       "      <td>2</td>\n",
       "      <td>1</td>\n",
       "    </tr>\n",
       "    <tr>\n",
       "      <th>3</th>\n",
       "      <td>Adult</td>\n",
       "      <td>1</td>\n",
       "      <td>1</td>\n",
       "      <td>Medium</td>\n",
       "      <td>True</td>\n",
       "      <td>0</td>\n",
       "      <td>1</td>\n",
       "      <td>High</td>\n",
       "      <td>0</td>\n",
       "      <td>Small</td>\n",
       "      <td>2</td>\n",
       "      <td>0</td>\n",
       "      <td>2</td>\n",
       "      <td>1</td>\n",
       "    </tr>\n",
       "    <tr>\n",
       "      <th>4</th>\n",
       "      <td>Adult</td>\n",
       "      <td>0</td>\n",
       "      <td>0</td>\n",
       "      <td>Medium</td>\n",
       "      <td>True</td>\n",
       "      <td>0</td>\n",
       "      <td>1</td>\n",
       "      <td>High</td>\n",
       "      <td>1</td>\n",
       "      <td>Small</td>\n",
       "      <td>2</td>\n",
       "      <td>0</td>\n",
       "      <td>2</td>\n",
       "      <td>1</td>\n",
       "    </tr>\n",
       "    <tr>\n",
       "      <th>...</th>\n",
       "      <td>...</td>\n",
       "      <td>...</td>\n",
       "      <td>...</td>\n",
       "      <td>...</td>\n",
       "      <td>...</td>\n",
       "      <td>...</td>\n",
       "      <td>...</td>\n",
       "      <td>...</td>\n",
       "      <td>...</td>\n",
       "      <td>...</td>\n",
       "      <td>...</td>\n",
       "      <td>...</td>\n",
       "      <td>...</td>\n",
       "      <td>...</td>\n",
       "    </tr>\n",
       "    <tr>\n",
       "      <th>298</th>\n",
       "      <td>Adult</td>\n",
       "      <td>0</td>\n",
       "      <td>0</td>\n",
       "      <td>High</td>\n",
       "      <td>True</td>\n",
       "      <td>0</td>\n",
       "      <td>1</td>\n",
       "      <td>Medium</td>\n",
       "      <td>1</td>\n",
       "      <td>Small</td>\n",
       "      <td>1</td>\n",
       "      <td>0</td>\n",
       "      <td>3</td>\n",
       "      <td>0</td>\n",
       "    </tr>\n",
       "    <tr>\n",
       "      <th>299</th>\n",
       "      <td>Adult</td>\n",
       "      <td>1</td>\n",
       "      <td>3</td>\n",
       "      <td>Medium</td>\n",
       "      <td>True</td>\n",
       "      <td>0</td>\n",
       "      <td>1</td>\n",
       "      <td>High</td>\n",
       "      <td>0</td>\n",
       "      <td>Mid</td>\n",
       "      <td>1</td>\n",
       "      <td>0</td>\n",
       "      <td>3</td>\n",
       "      <td>0</td>\n",
       "    </tr>\n",
       "    <tr>\n",
       "      <th>300</th>\n",
       "      <td>Old</td>\n",
       "      <td>1</td>\n",
       "      <td>0</td>\n",
       "      <td>High</td>\n",
       "      <td>False</td>\n",
       "      <td>1</td>\n",
       "      <td>1</td>\n",
       "      <td>High</td>\n",
       "      <td>0</td>\n",
       "      <td>Big</td>\n",
       "      <td>1</td>\n",
       "      <td>2</td>\n",
       "      <td>3</td>\n",
       "      <td>0</td>\n",
       "    </tr>\n",
       "    <tr>\n",
       "      <th>301</th>\n",
       "      <td>Adult</td>\n",
       "      <td>1</td>\n",
       "      <td>0</td>\n",
       "      <td>Medium</td>\n",
       "      <td>False</td>\n",
       "      <td>0</td>\n",
       "      <td>1</td>\n",
       "      <td>Medium</td>\n",
       "      <td>1</td>\n",
       "      <td>Mid</td>\n",
       "      <td>1</td>\n",
       "      <td>1</td>\n",
       "      <td>3</td>\n",
       "      <td>0</td>\n",
       "    </tr>\n",
       "    <tr>\n",
       "      <th>302</th>\n",
       "      <td>Adult</td>\n",
       "      <td>0</td>\n",
       "      <td>1</td>\n",
       "      <td>Medium</td>\n",
       "      <td>True</td>\n",
       "      <td>0</td>\n",
       "      <td>0</td>\n",
       "      <td>High</td>\n",
       "      <td>0</td>\n",
       "      <td>Small</td>\n",
       "      <td>1</td>\n",
       "      <td>1</td>\n",
       "      <td>2</td>\n",
       "      <td>0</td>\n",
       "    </tr>\n",
       "  </tbody>\n",
       "</table>\n",
       "<p>303 rows × 14 columns</p>\n",
       "</div>"
      ],
      "text/plain": [
       "       age  sex  cp trestbps   chol  fbs  restecg thalach  exang oldpeak  \\\n",
       "0    Adult    1   3     High   True    1        0    High      0     Mid   \n",
       "1    Adult    1   2   Medium   True    0        1    High      0     Big   \n",
       "2    Adult    0   1   Medium   True    0        0    High      0     Mid   \n",
       "3    Adult    1   1   Medium   True    0        1    High      0   Small   \n",
       "4    Adult    0   0   Medium   True    0        1    High      1   Small   \n",
       "..     ...  ...  ..      ...    ...  ...      ...     ...    ...     ...   \n",
       "298  Adult    0   0     High   True    0        1  Medium      1   Small   \n",
       "299  Adult    1   3   Medium   True    0        1    High      0     Mid   \n",
       "300    Old    1   0     High  False    1        1    High      0     Big   \n",
       "301  Adult    1   0   Medium  False    0        1  Medium      1     Mid   \n",
       "302  Adult    0   1   Medium   True    0        0    High      0   Small   \n",
       "\n",
       "     slope  ca  thal  target  \n",
       "0        0   0     1       1  \n",
       "1        0   0     2       1  \n",
       "2        2   0     2       1  \n",
       "3        2   0     2       1  \n",
       "4        2   0     2       1  \n",
       "..     ...  ..   ...     ...  \n",
       "298      1   0     3       0  \n",
       "299      1   0     3       0  \n",
       "300      1   2     3       0  \n",
       "301      1   1     3       0  \n",
       "302      1   1     2       0  \n",
       "\n",
       "[303 rows x 14 columns]"
      ]
     },
     "execution_count": 10,
     "metadata": {},
     "output_type": "execute_result"
    }
   ],
   "source": [
    "df_copy"
   ]
  },
  {
   "cell_type": "markdown",
   "metadata": {},
   "source": [
    "## Step 2: Building the Bayesian network"
   ]
  },
  {
   "cell_type": "markdown",
   "metadata": {},
   "source": [
    "After the elaboration of the data, it's possible to build a first instance of the Bayesian network. In fact many attempts need to be done before obtaining the best model. In particular, some considerations need to be taken into account in order to have an efficient model."
   ]
  },
  {
   "cell_type": "markdown",
   "metadata": {},
   "source": [
    "To build the Bayesian network, first of all, a scoring method needs to be fixed. In this way, it's possible to understand how well a model is able to describe the given data set. The pgmpy library provides the 'BicScore' class which is the one used below here because it is able to avoid overfitting unlike other methods like 'K2Score' and 'BDeuScore'. In fact, these latter seem to not care about overfitting and as a consequence the obtained graphs are quite different from the one provided by the 'BicScore' object (they are characterized by more connections)."
   ]
  },
  {
   "cell_type": "code",
   "execution_count": 11,
   "metadata": {},
   "outputs": [],
   "source": [
    "scoring = BicScore(df_copy) "
   ]
  },
  {
   "cell_type": "markdown",
   "metadata": {},
   "source": [
    "For what regards the algorithm used for searching the best graph (always according to the score method), the 'HillClimbSearch' class is considered. Also in this case, other possibilities exist like for example 'PC' or 'ExhaustiveSearch'. However, this latter, for example, is not feasible if there are more than 6 nodes (attributes)."
   ]
  },
  {
   "cell_type": "code",
   "execution_count": 12,
   "metadata": {},
   "outputs": [
    {
     "name": "stderr",
     "output_type": "stream",
     "text": [
      "  8%|██████▌                                                                           | 8/100 [00:02<00:25,  3.59it/s]\n"
     ]
    },
    {
     "data": {
      "image/png": "[encoded data removed]",
      "text/plain": [
       "<Figure size 432x288 with 1 Axes>"
      ]
     },
     "metadata": {},
     "output_type": "display_data"
    }
   ],
   "source": [
    "hcs = HillClimbSearch(df_copy) \n",
    "first_model = hcs.estimate(max_iter=100, scoring_method = scoring)\n",
    "\n",
    "draw_bayesian_network(df_copy.columns, first_model.edges())"
   ]
  },
  {
   "cell_type": "markdown",
   "metadata": {},
   "source": [
    "Observing the first model obtained allows to deduce something important: there are some attributes which seem to not influence the network. It's possible to confirm this possibility if the network with the not bucketized parameters is computed. In fact, the two graphs turn out to be identical. As a consequence, it's possible to discard the attributes with no connections in order to have a leaner and, hypothetically, a more efficient graph."
   ]
  },
  {
   "cell_type": "code",
   "execution_count": 13,
   "metadata": {},
   "outputs": [
    {
     "data": {
      "text/html": [
       "<div>\n",
       "<style scoped>\n",
       "    .dataframe tbody tr th:only-of-type {\n",
       "        vertical-align: middle;\n",
       "    }\n",
       "\n",
       "    .dataframe tbody tr th {\n",
       "        vertical-align: top;\n",
       "    }\n",
       "\n",
       "    .dataframe thead th {\n",
       "        text-align: right;\n",
       "    }\n",
       "</style>\n",
       "<table border=\"1\" class=\"dataframe\">\n",
       "  <thead>\n",
       "    <tr style=\"text-align: right;\">\n",
       "      <th></th>\n",
       "      <th>SEX</th>\n",
       "      <th>C_PAIN</th>\n",
       "      <th>MAX_HR</th>\n",
       "      <th>ANGINA</th>\n",
       "      <th>ST_DEPR</th>\n",
       "      <th>SLOPE_ST</th>\n",
       "      <th>MAX_V</th>\n",
       "      <th>THAL</th>\n",
       "      <th>H_ATTACK</th>\n",
       "    </tr>\n",
       "  </thead>\n",
       "  <tbody>\n",
       "    <tr>\n",
       "      <th>0</th>\n",
       "      <td>1</td>\n",
       "      <td>3</td>\n",
       "      <td>High</td>\n",
       "      <td>0</td>\n",
       "      <td>Mid</td>\n",
       "      <td>0</td>\n",
       "      <td>0</td>\n",
       "      <td>1</td>\n",
       "      <td>1</td>\n",
       "    </tr>\n",
       "    <tr>\n",
       "      <th>1</th>\n",
       "      <td>1</td>\n",
       "      <td>2</td>\n",
       "      <td>High</td>\n",
       "      <td>0</td>\n",
       "      <td>Big</td>\n",
       "      <td>0</td>\n",
       "      <td>0</td>\n",
       "      <td>2</td>\n",
       "      <td>1</td>\n",
       "    </tr>\n",
       "    <tr>\n",
       "      <th>2</th>\n",
       "      <td>0</td>\n",
       "      <td>1</td>\n",
       "      <td>High</td>\n",
       "      <td>0</td>\n",
       "      <td>Mid</td>\n",
       "      <td>2</td>\n",
       "      <td>0</td>\n",
       "      <td>2</td>\n",
       "      <td>1</td>\n",
       "    </tr>\n",
       "    <tr>\n",
       "      <th>3</th>\n",
       "      <td>1</td>\n",
       "      <td>1</td>\n",
       "      <td>High</td>\n",
       "      <td>0</td>\n",
       "      <td>Small</td>\n",
       "      <td>2</td>\n",
       "      <td>0</td>\n",
       "      <td>2</td>\n",
       "      <td>1</td>\n",
       "    </tr>\n",
       "    <tr>\n",
       "      <th>4</th>\n",
       "      <td>0</td>\n",
       "      <td>0</td>\n",
       "      <td>High</td>\n",
       "      <td>1</td>\n",
       "      <td>Small</td>\n",
       "      <td>2</td>\n",
       "      <td>0</td>\n",
       "      <td>2</td>\n",
       "      <td>1</td>\n",
       "    </tr>\n",
       "    <tr>\n",
       "      <th>...</th>\n",
       "      <td>...</td>\n",
       "      <td>...</td>\n",
       "      <td>...</td>\n",
       "      <td>...</td>\n",
       "      <td>...</td>\n",
       "      <td>...</td>\n",
       "      <td>...</td>\n",
       "      <td>...</td>\n",
       "      <td>...</td>\n",
       "    </tr>\n",
       "    <tr>\n",
       "      <th>298</th>\n",
       "      <td>0</td>\n",
       "      <td>0</td>\n",
       "      <td>Medium</td>\n",
       "      <td>1</td>\n",
       "      <td>Small</td>\n",
       "      <td>1</td>\n",
       "      <td>0</td>\n",
       "      <td>3</td>\n",
       "      <td>0</td>\n",
       "    </tr>\n",
       "    <tr>\n",
       "      <th>299</th>\n",
       "      <td>1</td>\n",
       "      <td>3</td>\n",
       "      <td>High</td>\n",
       "      <td>0</td>\n",
       "      <td>Mid</td>\n",
       "      <td>1</td>\n",
       "      <td>0</td>\n",
       "      <td>3</td>\n",
       "      <td>0</td>\n",
       "    </tr>\n",
       "    <tr>\n",
       "      <th>300</th>\n",
       "      <td>1</td>\n",
       "      <td>0</td>\n",
       "      <td>High</td>\n",
       "      <td>0</td>\n",
       "      <td>Big</td>\n",
       "      <td>1</td>\n",
       "      <td>2</td>\n",
       "      <td>3</td>\n",
       "      <td>0</td>\n",
       "    </tr>\n",
       "    <tr>\n",
       "      <th>301</th>\n",
       "      <td>1</td>\n",
       "      <td>0</td>\n",
       "      <td>Medium</td>\n",
       "      <td>1</td>\n",
       "      <td>Mid</td>\n",
       "      <td>1</td>\n",
       "      <td>1</td>\n",
       "      <td>3</td>\n",
       "      <td>0</td>\n",
       "    </tr>\n",
       "    <tr>\n",
       "      <th>302</th>\n",
       "      <td>0</td>\n",
       "      <td>1</td>\n",
       "      <td>High</td>\n",
       "      <td>0</td>\n",
       "      <td>Small</td>\n",
       "      <td>1</td>\n",
       "      <td>1</td>\n",
       "      <td>2</td>\n",
       "      <td>0</td>\n",
       "    </tr>\n",
       "  </tbody>\n",
       "</table>\n",
       "<p>303 rows × 9 columns</p>\n",
       "</div>"
      ],
      "text/plain": [
       "     SEX  C_PAIN  MAX_HR  ANGINA ST_DEPR  SLOPE_ST  MAX_V  THAL  H_ATTACK\n",
       "0      1       3    High       0     Mid         0      0     1         1\n",
       "1      1       2    High       0     Big         0      0     2         1\n",
       "2      0       1    High       0     Mid         2      0     2         1\n",
       "3      1       1    High       0   Small         2      0     2         1\n",
       "4      0       0    High       1   Small         2      0     2         1\n",
       "..   ...     ...     ...     ...     ...       ...    ...   ...       ...\n",
       "298    0       0  Medium       1   Small         1      0     3         0\n",
       "299    1       3    High       0     Mid         1      0     3         0\n",
       "300    1       0    High       0     Big         1      2     3         0\n",
       "301    1       0  Medium       1     Mid         1      1     3         0\n",
       "302    0       1    High       0   Small         1      1     2         0\n",
       "\n",
       "[303 rows x 9 columns]"
      ]
     },
     "execution_count": 13,
     "metadata": {},
     "output_type": "execute_result"
    }
   ],
   "source": [
    "data = df_copy.copy()\n",
    "data.drop(['age', 'trestbps','chol','fbs','restecg'], axis=1, inplace=True) #Discard the attributes\n",
    "                                                                            #with no connections\n",
    "\n",
    "data = data.rename(columns={'sex':'SEX','cp':'C_PAIN','thalach':'MAX_HR', #Renaming for the sake of \n",
    "                                                                            #clarity\n",
    "                            'exang':'ANGINA','oldpeak':'ST_DEPR','slope':'SLOPE_ST',\n",
    "                           'ca':'MAX_V','thal':'THAL','target':'H_ATTACK'})\n",
    "data"
   ]
  },
  {
   "cell_type": "markdown",
   "metadata": {},
   "source": [
    "Based on the cleaned data, the new Bayesian network is created."
   ]
  },
  {
   "cell_type": "code",
   "execution_count": 14,
   "metadata": {},
   "outputs": [
    {
     "name": "stderr",
     "output_type": "stream",
     "text": [
      "  8%|██████▌                                                                           | 8/100 [00:00<00:10,  8.38it/s]\n"
     ]
    },
    {
     "data": {
      "image/png": "[encoded data removed]",
      "text/plain": [
       "<Figure size 432x288 with 1 Axes>"
      ]
     },
     "metadata": {},
     "output_type": "display_data"
    }
   ],
   "source": [
    "scoring = BicScore(data)\n",
    "\n",
    "hcs = HillClimbSearch(data)\n",
    "final_model = hcs.estimate(max_iter=100, scoring_method = scoring)\n",
    "\n",
    "draw_bayesian_network(data.columns, final_model.edges())\n"
   ]
  },
  {
   "cell_type": "markdown",
   "metadata": {},
   "source": [
    "This is the final result. Just to be clear, the direction of the relations needs to be considered as something like ' A is influenced by B ' and not like 'A influences B' as in fact it normally is with Bayesian networks.\n",
    "\n",
    "So, the last step now is to compute the CPDs that are the probabilities for each of the attribute involved in the network. To do that, of course, each instance of the dataset and a 'BayesianEstimator' object are taken into account. Another possibility was to adopt a 'MaximumLikelihoodEstimator' but, after some attempts, it is less comfortable to use."
   ]
  },
  {
   "cell_type": "code",
   "execution_count": 15,
   "metadata": {},
   "outputs": [
    {
     "data": {
      "text/plain": [
       "True"
      ]
     },
     "execution_count": 15,
     "metadata": {},
     "output_type": "execute_result"
    }
   ],
   "source": [
    "bayesian_model = BayesianModel(final_model.edges())\n",
    "bayesian_model.fit(data, estimator = BayesianEstimator, prior_type=\"BDeu\")\n",
    "\n",
    "bayesian_model.check_model()"
   ]
  },
  {
   "cell_type": "markdown",
   "metadata": {},
   "source": [
    "Let's have a look to the CPDs"
   ]
  },
  {
   "cell_type": "code",
   "execution_count": 16,
   "metadata": {},
   "outputs": [
    {
     "name": "stdout",
     "output_type": "stream",
     "text": [
      "CPT of C_PAIN\n",
      "+-----------+----------------------+---------------------+\n",
      "| H_ATTACK  | H_ATTACK(0)          | H_ATTACK(1)         |\n",
      "+-----------+----------------------+---------------------+\n",
      "| C_PAIN(0) | 0.744661921708185    | 0.23656716417910448 |\n",
      "+-----------+----------------------+---------------------+\n",
      "| C_PAIN(1) | 0.06850533807829182  | 0.24850746268656718 |\n",
      "+-----------+----------------------+---------------------+\n",
      "| C_PAIN(2) | 0.13256227758007116  | 0.41567164179104477 |\n",
      "+-----------+----------------------+---------------------+\n",
      "| C_PAIN(3) | 0.054270462633451956 | 0.09925373134328358 |\n",
      "+-----------+----------------------+---------------------+ \n",
      "\n",
      "CPT of ANGINA\n",
      "+-----------+--------------------+---------------------+---------------------+---------------------+\n",
      "| C_PAIN    | C_PAIN(0)          | C_PAIN(1)           | C_PAIN(2)           | C_PAIN(3)           |\n",
      "+-----------+--------------------+---------------------+---------------------+---------------------+\n",
      "| ANGINA(0) | 0.4410745233968804 | 0.9097560975609756  | 0.8682719546742209  | 0.8092783505154639  |\n",
      "+-----------+--------------------+---------------------+---------------------+---------------------+\n",
      "| ANGINA(1) | 0.5589254766031195 | 0.09024390243902439 | 0.13172804532577903 | 0.19072164948453607 |\n",
      "+-----------+--------------------+---------------------+---------------------+---------------------+ \n",
      "\n",
      "CPT of SLOPE_ST\n",
      "+-------------+-----------+\n",
      "| SLOPE_ST(0) | 0.0735931 |\n",
      "+-------------+-----------+\n",
      "| SLOPE_ST(1) | 0.459957  |\n",
      "+-------------+-----------+\n",
      "| SLOPE_ST(2) | 0.46645   |\n",
      "+-------------+-----------+ \n",
      "\n",
      "CPT of ST_DEPR\n",
      "+----------------+---------------------+---------------------+---------------------+\n",
      "| SLOPE_ST       | SLOPE_ST(0)         | SLOPE_ST(1)         | SLOPE_ST(2)         |\n",
      "+----------------+---------------------+---------------------+---------------------+\n",
      "| ST_DEPR(Big)   | 0.42156862745098045 | 0.06745098039215686 | 0.01778808971384377 |\n",
      "+----------------+---------------------+---------------------+---------------------+\n",
      "| ST_DEPR(Mid)   | 0.3774509803921569  | 0.5333333333333333  | 0.1430781129156999  |\n",
      "+----------------+---------------------+---------------------+---------------------+\n",
      "| ST_DEPR(Small) | 0.20098039215686275 | 0.39921568627450976 | 0.8391337973704562  |\n",
      "+----------------+---------------------+---------------------+---------------------+ \n",
      "\n",
      "CPT of H_ATTACK\n",
      "+-------------+--------------------+-------------------+---------------------+\n",
      "| SLOPE_ST    | SLOPE_ST(0)        | SLOPE_ST(1)       | SLOPE_ST(2)         |\n",
      "+-------------+--------------------+-------------------+---------------------+\n",
      "| H_ATTACK(0) | 0.5661764705882353 | 0.648235294117647 | 0.24941995359628774 |\n",
      "+-------------+--------------------+-------------------+---------------------+\n",
      "| H_ATTACK(1) | 0.4338235294117647 | 0.351764705882353 | 0.7505800464037123  |\n",
      "+-------------+--------------------+-------------------+---------------------+ \n",
      "\n",
      "CPT of THAL\n",
      "+----------+----------------------+----------------------+\n",
      "| H_ATTACK | H_ATTACK(0)          | H_ATTACK(1)          |\n",
      "+----------+----------------------+----------------------+\n",
      "| THAL(0)  | 0.011565836298932384 | 0.009701492537313432 |\n",
      "+----------+----------------------+----------------------+\n",
      "| THAL(1)  | 0.0898576512455516   | 0.03955223880597015  |\n",
      "+----------+----------------------+----------------------+\n",
      "| THAL(2)  | 0.2606761565836299   | 0.7798507462686567   |\n",
      "+----------+----------------------+----------------------+\n",
      "| THAL(3)  | 0.6379003558718861   | 0.1708955223880597   |\n",
      "+----------+----------------------+----------------------+ \n",
      "\n",
      "CPT of SEX\n",
      "+--------+---------+---------------------+--------------------+--------------------+\n",
      "| THAL   | THAL(0) | THAL(1)             | THAL(2)            | THAL(3)            |\n",
      "+--------+---------+---------------------+--------------------+--------------------+\n",
      "| SEX(0) | 0.5     | 0.08441558441558442 | 0.4760837070254111 | 0.1321353065539112 |\n",
      "+--------+---------+---------------------+--------------------+--------------------+\n",
      "| SEX(1) | 0.5     | 0.9155844155844156  | 0.523916292974589  | 0.8678646934460887 |\n",
      "+--------+---------+---------------------+--------------------+--------------------+ \n",
      "\n",
      "CPT of MAX_V\n",
      "+----------+----------------------+----------------------+\n",
      "| H_ATTACK | H_ATTACK(0)          | H_ATTACK(1)          |\n",
      "+----------+----------------------+----------------------+\n",
      "| MAX_V(0) | 0.3238434163701068   | 0.7791044776119403   |\n",
      "+----------+----------------------+----------------------+\n",
      "| MAX_V(1) | 0.3167259786476868   | 0.12835820895522387  |\n",
      "+----------+----------------------+----------------------+\n",
      "| MAX_V(2) | 0.22419928825622776  | 0.04477611940298507  |\n",
      "+----------+----------------------+----------------------+\n",
      "| MAX_V(3) | 0.12455516014234876  | 0.020895522388059702 |\n",
      "+----------+----------------------+----------------------+\n",
      "| MAX_V(4) | 0.010676156583629894 | 0.026865671641791045 |\n",
      "+----------+----------------------+----------------------+ \n",
      "\n",
      "CPT of MAX_HR\n",
      "+----------------+----------------------+----------------------+\n",
      "| H_ATTACK       | H_ATTACK(0)          | H_ATTACK(1)          |\n",
      "+----------------+----------------------+----------------------+\n",
      "| MAX_HR(High)   | 0.6536180308422301   | 0.8945273631840795   |\n",
      "+----------------+----------------------+----------------------+\n",
      "| MAX_HR(Low)    | 0.027283511269276396 | 0.004975124378109452 |\n",
      "+----------------+----------------------+----------------------+\n",
      "| MAX_HR(Medium) | 0.3190984578884935   | 0.10049751243781092  |\n",
      "+----------------+----------------------+----------------------+ \n",
      "\n"
     ]
    }
   ],
   "source": [
    "for cpd in bayesian_model.get_cpds():\n",
    "    print('CPT of', cpd.variable)\n",
    "    print(cpd,'\\n')"
   ]
  },
  {
   "cell_type": "markdown",
   "metadata": {},
   "source": [
    "## Step 3: structural analysis and inferring"
   ]
  },
  {
   "cell_type": "markdown",
   "metadata": {},
   "source": [
    "Once the CPDs are avaiable, it's staightforward to start to deduce and discover interesting patterns. In particular, it's possible to conduct a structural analysis of the network. For example, it is interesting to know about conditional independencies give certain evidences."
   ]
  },
  {
   "cell_type": "code",
   "execution_count": 17,
   "metadata": {},
   "outputs": [
    {
     "data": {
      "text/plain": [
       "[(C_PAIN ⟂ ST_DEPR | ANGINA, SLOPE_ST, MAX_HR),\n",
       " (C_PAIN ⟂ MAX_V, SEX, THAL, ST_DEPR, MAX_HR | ANGINA, H_ATTACK, SLOPE_ST),\n",
       " (C_PAIN ⟂ ST_DEPR | ANGINA, MAX_V, SLOPE_ST),\n",
       " (C_PAIN ⟂ ST_DEPR | ANGINA, SLOPE_ST, SEX),\n",
       " (C_PAIN ⟂ ST_DEPR, SEX | ANGINA, SLOPE_ST, THAL),\n",
       " (C_PAIN ⟂ THAL, MAX_V, MAX_HR, SEX | ST_DEPR, H_ATTACK, SLOPE_ST),\n",
       " (C_PAIN ⟂ SEX | ST_DEPR, SLOPE_ST, THAL),\n",
       " (C_PAIN ⟂ ST_DEPR, MAX_V, THAL, SEX | H_ATTACK, SLOPE_ST, MAX_HR),\n",
       " (C_PAIN ⟂ ST_DEPR | MAX_V, SLOPE_ST, MAX_HR),\n",
       " (C_PAIN ⟂ ST_DEPR | SLOPE_ST, MAX_HR, SEX)]"
      ]
     },
     "execution_count": 17,
     "metadata": {},
     "output_type": "execute_result"
    }
   ],
   "source": [
    "bayesian_model.get_independencies().get_assertions()[201:211]"
   ]
  },
  {
   "cell_type": "markdown",
   "metadata": {},
   "source": [
    "In addition, what is possible to do is to compute some exact inference through the 'VariableElimination' method. Trivially, it's possible to know, for example, who has the highest probability, between a man and a woman, to get an heart attack."
   ]
  },
  {
   "cell_type": "code",
   "execution_count": 18,
   "metadata": {},
   "outputs": [
    {
     "name": "stderr",
     "output_type": "stream",
     "text": [
      "Finding Elimination Order: :   0%|                                                               | 0/2 [00:00<?, ?it/s]\n",
      "  0%|                                                                                            | 0/2 [00:00<?, ?it/s]\u001b[A\n",
      "Eliminating: SLOPE_ST:   0%|                                                                     | 0/2 [00:00<?, ?it/s]\u001b[A\n",
      "Finding Elimination Order: : 100%|██████████████████████████████████████████████████████| 2/2 [00:00<00:00, 480.89it/s]\u001b[A\n",
      "Eliminating: THAL: 100%|█████████████████████████████████████████████████████████████████████████| 2/2 [00:00<?, ?it/s]\n",
      "Finding Elimination Order: :   0%|                                                               | 0/2 [00:00<?, ?it/s]\n",
      "  0%|                                                                                            | 0/2 [00:00<?, ?it/s]\u001b[A\n",
      "Eliminating: SLOPE_ST:   0%|                                                                     | 0/2 [00:00<?, ?it/s]\u001b[A\n",
      "Eliminating: THAL: 100%|█████████████████████████████████████████████████████████████████████████| 2/2 [00:00<?, ?it/s]\u001b[A"
     ]
    },
    {
     "name": "stdout",
     "output_type": "stream",
     "text": [
      "Probability to get an heart attack if I am a male\n",
      " +-------------+-----------------+\n",
      "| H_ATTACK    |   phi(H_ATTACK) |\n",
      "+=============+=================+\n",
      "| H_ATTACK(0) |          0.5219 |\n",
      "+-------------+-----------------+\n",
      "| H_ATTACK(1) |          0.4781 |\n",
      "+-------------+-----------------+\n",
      "Probability to get an heart attack if I am a female\n",
      " +-------------+-----------------+\n",
      "| H_ATTACK    |   phi(H_ATTACK) |\n",
      "+=============+=================+\n",
      "| H_ATTACK(0) |          0.3163 |\n",
      "+-------------+-----------------+\n",
      "| H_ATTACK(1) |          0.6837 |\n",
      "+-------------+-----------------+\n"
     ]
    },
    {
     "name": "stderr",
     "output_type": "stream",
     "text": [
      "\n"
     ]
    }
   ],
   "source": [
    "inference = VariableElimination(bayesian_model)\n",
    "\n",
    "f_heart_attack = inference.query(show_progress=True,variables=['H_ATTACK'], evidence={\n",
    "                                                                        'SEX':0\n",
    "                                                                           })\n",
    "m_heart_attack = inference.query(show_progress=True,variables=['H_ATTACK'], evidence={\n",
    "                                                                        'SEX':1\n",
    "                                                                           })\n",
    "\n",
    "print('Probability to get an heart attack if I am a male\\n', m_heart_attack)\n",
    "print('Probability to get an heart attack if I am a female\\n', f_heart_attack)"
   ]
  },
  {
   "cell_type": "markdown",
   "metadata": {},
   "source": [
    "It turns out that females have higher chances.\n",
    "Another interesting example is to try to understand how much an angina after exercise can increase (or decrease) the probability to get an heart attack."
   ]
  },
  {
   "cell_type": "code",
   "execution_count": 19,
   "metadata": {},
   "outputs": [
    {
     "name": "stderr",
     "output_type": "stream",
     "text": [
      "\n",
      "  0%|                                                                                            | 0/1 [00:00<?, ?it/s]\u001b[A\n",
      "Finding Elimination Order: :   0%|                                                               | 0/1 [00:00<?, ?it/s]\u001b[A\n",
      "\n",
      "  0%|                                                                                            | 0/1 [00:00<?, ?it/s]\u001b[A\u001b[A\n",
      "\n",
      "Eliminating: C_PAIN: 100%|███████████████████████████████████████████████████████████████████████| 1/1 [00:00<?, ?it/s]\u001b[A\u001b[A"
     ]
    },
    {
     "name": "stdout",
     "output_type": "stream",
     "text": [
      "Probability to get an heart attack caused by angina after an exercise\n",
      " +-----------+---------------+\n",
      "| ANGINA    |   phi(ANGINA) |\n",
      "+===========+===============+\n",
      "| ANGINA(0) |        0.7717 |\n",
      "+-----------+---------------+\n",
      "| ANGINA(1) |        0.2283 |\n",
      "+-----------+---------------+\n"
     ]
    },
    {
     "name": "stderr",
     "output_type": "stream",
     "text": [
      "\n"
     ]
    }
   ],
   "source": [
    "angina_h_attack = inference.query(show_progress=True,variables=['ANGINA'], evidence={\n",
    "                                                                        'H_ATTACK':1\n",
    "                                                                           })\n",
    "\n",
    "print('Probability to get an heart attack caused by angina after an exercise\\n', angina_h_attack)\n"
   ]
  },
  {
   "cell_type": "markdown",
   "metadata": {},
   "source": [
    "It looks like that angina is not sufficient to define the occurence of an heart attack.\n",
    "What about if fixed defect for thalassemia and an atypical chest pain are considered? What is the probability for heart attack in such a case?"
   ]
  },
  {
   "cell_type": "code",
   "execution_count": 20,
   "metadata": {},
   "outputs": [
    {
     "name": "stderr",
     "output_type": "stream",
     "text": [
      "\n",
      "\n",
      "  0%|                                                                                            | 0/1 [00:00<?, ?it/s]\u001b[A\u001b[A\n",
      "\n",
      "Finding Elimination Order: :   0%|                                                               | 0/1 [00:00<?, ?it/s]\u001b[A\u001b[A\n",
      "\n",
      "\n",
      "  0%|                                                                                            | 0/1 [00:00<?, ?it/s]\u001b[A\u001b[A\u001b[A\n",
      "\n",
      "\n",
      "Finding Elimination Order: : 100%|███████████████████████████████████████████████████████| 2/2 [00:00<00:00, 25.01it/s]\u001b[A\u001b[A\u001b[A\n",
      "Finding Elimination Order: : 100%|███████████████████████████████████████████████████████| 1/1 [00:00<00:00, 20.83it/s]\n",
      "Finding Elimination Order: : 100%|███████████████████████████████████████████████████████| 1/1 [00:00<00:00, 62.50it/s]\n",
      "Eliminating: SLOPE_ST: 100%|████████████████████████████████████████████████████████████| 1/1 [00:00<00:00, 124.99it/s]"
     ]
    },
    {
     "name": "stdout",
     "output_type": "stream",
     "text": [
      "Probability to get an heart attack if I have fixed thalassemia and and atypical chest pain\n",
      " +-------------+-----------------+\n",
      "| H_ATTACK    |   phi(H_ATTACK) |\n",
      "+=============+=================+\n",
      "| H_ATTACK(0) |          0.3444 |\n",
      "+-------------+-----------------+\n",
      "| H_ATTACK(1) |          0.6556 |\n",
      "+-------------+-----------------+\n"
     ]
    },
    {
     "name": "stderr",
     "output_type": "stream",
     "text": [
      "\n"
     ]
    }
   ],
   "source": [
    "thal_cp_h_attack = inference.query(show_progress=True,variables=['H_ATTACK'], evidence={\n",
    "                                                                        'THAL':1,\n",
    "                                                                        'C_PAIN':1\n",
    "                                                                           })\n",
    "\n",
    "\n",
    "print('Probability to get an heart attack if I have fixed thalassemia and and atypical chest pain\\n', thal_cp_h_attack)\n"
   ]
  },
  {
   "cell_type": "markdown",
   "metadata": {},
   "source": [
    "Of course the probability of getting troubles is high."
   ]
  },
  {
   "cell_type": "markdown",
   "metadata": {},
   "source": [
    "However, in some cases, the computed network is too big to estimate exact inferences because the computational effort is too heavy. So, in alternative, it's possible to compute an approximation of these probabilities by using tecniques that generate random samples and thus the probability of the query (that is actually how probability is calculated in real world experiment).\n",
    "\n",
    "In particular, Rejection sampling algorithm is implemented here since it is one the simplest: it generates only those samples that have certain evidences and discard the others. However, likelihood weighting variant is preferable since it is smarter: it assigns a weight to each generated sample."
   ]
  },
  {
   "cell_type": "code",
   "execution_count": 21,
   "metadata": {},
   "outputs": [],
   "source": [
    "query = 'H_ATTACK'\n",
    "value = 1\n",
    "evidence = {\n",
    "    'THAL': 1,\n",
    "    'C_PAIN':1   \n",
    "}"
   ]
  },
  {
   "cell_type": "code",
   "execution_count": 22,
   "metadata": {},
   "outputs": [
    {
     "name": "stderr",
     "output_type": "stream",
     "text": [
      "Generating for node: ST_DEPR: 100%|█████████████████████████████████████████████████████| 9/9 [00:00<00:00, 374.59it/s]\n"
     ]
    },
    {
     "name": "stdout",
     "output_type": "stream",
     "text": [
      "Approximate probability of getting an heart attack with fixed thalassemia and atypical chest pain: 0.6484439356154008\n"
     ]
    }
   ],
   "source": [
    "lw_prob, samples = lw_sampling_infer(bayesian_model,\n",
    "                                    query=query,\n",
    "                                    value=value,\n",
    "                                    evidence=evidence)\n",
    "print('Approximate probability of getting an heart attack with fixed thalassemia and atypical chest pain:',\n",
    "      lw_prob)"
   ]
  },
  {
   "cell_type": "markdown",
   "metadata": {},
   "source": [
    "## Conclusions"
   ]
  },
  {
   "cell_type": "markdown",
   "metadata": {},
   "source": [
    "Surely, what is possible to deduce is that Bayesian networks are powerful tools in medical contexts because they are simple to use and allow to infer interesting insights in an environmente which is characterized by many other factors and variations. Of course, the model built in this project is not realiable since many approximation and inaccuracies were committed, but the potential can be expressed with the help of an expert. In addition, other kinds of structural analysis might be thoughtful like, for example, active trails, Markov blankets, and so on."
   ]
  }
 ],
 "metadata": {
  "kernelspec": {
   "display_name": "Python 3",
   "language": "python",
   "name": "python3"
  },
  "language_info": {
   "codemirror_mode": {
    "name": "ipython",
    "version": 3
   },
   "file_extension": ".py",
   "mimetype": "text/x-python",
   "name": "python",
   "nbconvert_exporter": "python",
   "pygments_lexer": "ipython3",
   "version": "3.7.4"
  }
 },
 "nbformat": 4,
 "nbformat_minor": 4
}
